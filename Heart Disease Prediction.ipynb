{
  "cells": [
    {
      "cell_type": "code",
      "execution_count": null,
      "metadata": {
        "id": "r0H9kRdOntiT"
      },
      "outputs": [],
      "source": [
        "import sklearn\n",
        "import numpy as np\n",
        "import pandas as pd\n",
        "import plotly as plot\n",
        "import plotly.express as px\n",
        "import plotly.graph_objs as go\n",
        "\n",
        "import cufflinks as cf\n",
        "import matplotlib.pyplot as plt\n",
        "import seaborn as sns\n",
        "import os\n",
        "from sklearn.metrics import accuracy_score,mean_squared_error\n",
        "import plotly.offline as pyo\n",
        "from plotly.offline import init_notebook_mode,plot,iplot\n"
      ]
    },
    {
      "cell_type": "code",
      "execution_count": null,
      "metadata": {
        "colab": {
          "base_uri": "https://localhost:8080/",
          "height": 17
        },
        "id": "zqs1tx8Vntiu",
        "outputId": "0680efbf-e66f-4170-fcb3-b35f48d07c6d"
      },
      "outputs": [],
      "source": [
        "pyo.init_notebook_mode(connected=True)\n",
        "cf.go_offline()"
      ]
    },
    {
      "cell_type": "code",
      "execution_count": null,
      "metadata": {
        "id": "9X_zQun6ntjI"
      },
      "outputs": [],
      "source": [
        "heart=pd.read_csv('heart.csv')"
      ]
    },
    {
      "cell_type": "code",
      "execution_count": null,
      "metadata": {
        "id": "LKJa2Ni9ntjb",
        "outputId": "74bf9f2e-c10f-4ccf-ccd9-dc1193e3975a"
      },
      "outputs": [],
      "source": [
        "heart\n"
      ]
    },
    {
      "cell_type": "code",
      "execution_count": null,
      "metadata": {
        "colab": {
          "base_uri": "https://localhost:8080/",
          "height": 289
        },
        "id": "pXJJHcTLntjq",
        "outputId": "aa2c1855-a7c9-41a0-db57-3262ef7c422c",
        "tags": []
      },
      "outputs": [],
      "source": [
        "info = [\"age\",\"1: male, 0: female\",\"chest pain type, 1: typical angina, 2: atypical angina, 3: non-anginal pain, 4: asymptomatic\",\"resting blood pressure\",\" serum cholestoral in mg/dl\",\"fasting blood sugar > 120 mg/dl\",\"resting electrocardiographic results (values 0,1,2)\",\" maximum heart rate achieved\",\"exercise induced angina\",\"oldpeak = ST depression induced by exercise relative to rest\",\"the slope of the peak exercise ST segment\",\"number of major vessels (0-3) colored by flourosopy\",\"thal: 3 = normal; 6 = fixed defect; 7 = reversable defect\"]\n",
        "\n",
        "\n",
        "\n",
        "for i in range(len(info)):\n",
        "    print(heart.columns[i]+\":\\t\\t\\t\"+info[i])"
      ]
    },
    {
      "cell_type": "code",
      "execution_count": null,
      "metadata": {
        "id": "kUEPfx3lntj7",
        "outputId": "e5753931-f8cf-4bc8-8d08-ccc174b45e76"
      },
      "outputs": [],
      "source": [
        "heart['target']"
      ]
    },
    {
      "cell_type": "code",
      "execution_count": null,
      "metadata": {
        "id": "8HF09z_qntkJ",
        "outputId": "6b21a2dc-2f4b-4f72-825f-53455b4d9733"
      },
      "outputs": [],
      "source": [
        "heart.groupby('target').size()"
      ]
    },
    {
      "cell_type": "code",
      "execution_count": null,
      "metadata": {
        "id": "SW7VsBqlntkV",
        "outputId": "7c905115-5938-4ccf-b938-0341a6fdee4f"
      },
      "outputs": [],
      "source": [
        "heart.groupby('target').sum()"
      ]
    },
    {
      "cell_type": "code",
      "execution_count": null,
      "metadata": {
        "id": "wMLquv0Lntkf",
        "outputId": "bc533328-381f-4663-8302-81e562b1306d"
      },
      "outputs": [],
      "source": [
        "heart.shape"
      ]
    },
    {
      "cell_type": "code",
      "execution_count": null,
      "metadata": {
        "id": "WiN5UZl5ntkr",
        "outputId": "5c74f970-47d7-4ab3-ccb1-cc6e39c3526e"
      },
      "outputs": [],
      "source": [
        "heart.size"
      ]
    },
    {
      "cell_type": "code",
      "execution_count": null,
      "metadata": {
        "id": "Ywq67uQOntk4",
        "outputId": "f7bcfb32-551c-4a5b-9497-6cb56598f77d"
      },
      "outputs": [],
      "source": [
        "heart.describe()"
      ]
    },
    {
      "cell_type": "code",
      "execution_count": null,
      "metadata": {
        "id": "juOzm43hntlF"
      },
      "outputs": [],
      "source": []
    },
    {
      "cell_type": "code",
      "execution_count": null,
      "metadata": {
        "id": "aq5So1DPntlQ",
        "outputId": "6006bb0f-7be9-4906-89a3-eec6e7ff9a6e",
        "tags": []
      },
      "outputs": [],
      "source": [
        "heart.info()"
      ]
    },
    {
      "cell_type": "code",
      "execution_count": null,
      "metadata": {
        "id": "Q-P_SPv1ntlj",
        "outputId": "684bf9c1-df12-409f-86a0-3a0faa53c8b2"
      },
      "outputs": [],
      "source": [
        "heart['target'].unique()"
      ]
    },
    {
      "cell_type": "code",
      "execution_count": null,
      "metadata": {
        "id": "iC3wb8Ftntl1"
      },
      "outputs": [],
      "source": [
        "#Visualization"
      ]
    },
    {
      "cell_type": "code",
      "execution_count": null,
      "metadata": {
        "id": "ZJuTJd8FntmB",
        "outputId": "c4e0df88-47c0-44ee-c93f-a2e26305cf97"
      },
      "outputs": [],
      "source": [
        "heart.hist(figsize=(14,14))\n",
        "plt.show()"
      ]
    },
    {
      "cell_type": "code",
      "execution_count": null,
      "metadata": {
        "id": "Fd-CXhSVntmL"
      },
      "outputs": [],
      "source": []
    },
    {
      "cell_type": "code",
      "execution_count": null,
      "metadata": {
        "id": "EZUW-qMPntmW",
        "outputId": "a6485962-65e0-4eea-9092-f70a693d518a"
      },
      "outputs": [],
      "source": [
        "plt.bar(x=heart['sex'],height=heart['age'])\n",
        "plt.show()"
      ]
    },
    {
      "cell_type": "code",
      "execution_count": null,
      "metadata": {
        "id": "V1mvPFYuntmh",
        "outputId": "e4bffa04-e881-44f6-847f-5418580ab16c"
      },
      "outputs": [],
      "source": [
        "sns.barplot(x=\"fbs\", y=\"target\", data=heart)\n",
        "plt.show()"
      ]
    },
    {
      "cell_type": "code",
      "execution_count": null,
      "metadata": {
        "id": "n24dWfpCntmq",
        "outputId": "824c55be-9bbf-422d-db51-b839b4bcb7fc"
      },
      "outputs": [],
      "source": [
        "sns.barplot(x=heart['sex'],y=heart['age'],hue=heart['target'])"
      ]
    },
    {
      "cell_type": "code",
      "execution_count": null,
      "metadata": {
        "id": "O94g2gALntmy",
        "outputId": "6f5169db-2b5a-45ef-da9d-5e10a01a2e8c"
      },
      "outputs": [],
      "source": [
        "sns.barplot(heart[\"cp\"],heart['target'])"
      ]
    },
    {
      "cell_type": "code",
      "execution_count": null,
      "metadata": {
        "id": "7tFu_kJxntnA",
        "outputId": "5aeae70e-5218-4d0f-c6d7-82f3296e3745"
      },
      "outputs": [],
      "source": [
        "sns.barplot(heart[\"sex\"],heart['target'])"
      ]
    },
    {
      "cell_type": "code",
      "execution_count": null,
      "metadata": {
        "id": "0z27aIW9ntnK"
      },
      "outputs": [],
      "source": []
    },
    {
      "cell_type": "code",
      "execution_count": null,
      "metadata": {
        "id": "mmFiBmOPntnS",
        "outputId": "53578363-efe2-4e39-bc68-48c00c3582ca"
      },
      "outputs": [],
      "source": [
        "px.bar(heart,heart['sex'],heart['target'])"
      ]
    },
    {
      "cell_type": "code",
      "execution_count": null,
      "metadata": {
        "id": "MMk1259fntnd",
        "outputId": "ccc1d284-88da-49ef-a0d3-b8b1b2c01353"
      },
      "outputs": [],
      "source": [
        "sns.distplot(heart[\"thal\"])"
      ]
    },
    {
      "cell_type": "code",
      "execution_count": null,
      "metadata": {
        "id": "MsTXkx8Qntnk",
        "outputId": "6aa38546-014c-4a9e-cdd1-dafb23ac48d4"
      },
      "outputs": [],
      "source": [
        "sns.distplot(heart[\"chol\"])"
      ]
    },
    {
      "cell_type": "code",
      "execution_count": null,
      "metadata": {
        "id": "25Rwugfgntnu",
        "outputId": "fc8aaade-1e5e-4466-f984-be1eee914311"
      },
      "outputs": [],
      "source": [
        "sns.pairplot(heart,hue='target')"
      ]
    },
    {
      "cell_type": "code",
      "execution_count": null,
      "metadata": {
        "id": "5t7Z2HMentn4",
        "outputId": "5abd8a4c-8c3b-4de1-fada-8a1979f9d989"
      },
      "outputs": [],
      "source": [
        "heart"
      ]
    },
    {
      "cell_type": "code",
      "execution_count": null,
      "metadata": {
        "id": "bh61Br2YntoB"
      },
      "outputs": [],
      "source": [
        "numeric_columns=['trestbps','chol','thalach','age','oldpeak']"
      ]
    },
    {
      "cell_type": "code",
      "execution_count": null,
      "metadata": {
        "id": "YHPbmFnrntoI",
        "outputId": "fe82d79b-0c02-4fd3-9020-7c3e70dfd408"
      },
      "outputs": [],
      "source": [
        "sns.pairplot(heart[numeric_columns])"
      ]
    },
    {
      "cell_type": "code",
      "execution_count": null,
      "metadata": {
        "id": "DC3K_8yNntoP",
        "outputId": "25e017f4-5d2d-4131-aadf-45c198c29003"
      },
      "outputs": [],
      "source": [
        "heart['target']"
      ]
    },
    {
      "cell_type": "code",
      "execution_count": null,
      "metadata": {
        "id": "fbzMrMWSntoX",
        "outputId": "79d5dbf4-5042-4254-e570-6b0b3677087c"
      },
      "outputs": [],
      "source": [
        "y = heart[\"target\"]\n",
        "\n",
        "sns.countplot(y)\n",
        "\n",
        "target_temp = heart.target.value_counts()\n",
        "\n",
        "print(target_temp)\n"
      ]
    },
    {
      "cell_type": "code",
      "execution_count": null,
      "metadata": {
        "id": "4Cz1UMLVntog"
      },
      "outputs": [],
      "source": []
    },
    {
      "cell_type": "code",
      "execution_count": null,
      "metadata": {
        "id": "GXsptpAentoo",
        "outputId": "7533a94d-0990-4e01-ba81-e670d0e40481"
      },
      "outputs": [],
      "source": [
        "# create a correlation heatmap\n",
        "sns.heatmap(heart[numeric_columns].corr(),annot=True, cmap='terrain', linewidths=0.1)\n",
        "fig=plt.gcf()\n",
        "fig.set_size_inches(8,6)\n",
        "plt.show()"
      ]
    },
    {
      "cell_type": "code",
      "execution_count": null,
      "metadata": {
        "id": "rrlTs5wcntow"
      },
      "outputs": [],
      "source": []
    },
    {
      "cell_type": "code",
      "execution_count": null,
      "metadata": {
        "id": "U1QOZgapnto5"
      },
      "outputs": [],
      "source": []
    },
    {
      "cell_type": "code",
      "execution_count": null,
      "metadata": {
        "id": "uXF5HZf6ntpT",
        "outputId": "cbd300f3-7e5e-4b3b-8eec-ea8169d0157d"
      },
      "outputs": [],
      "source": [
        "# create four distplots\n",
        "plt.figure(figsize=(12,10))\n",
        "plt.subplot(221)\n",
        "sns.distplot(heart[heart['target']==0].age)\n",
        "plt.title('Age of patients without heart disease')\n",
        "plt.subplot(222)\n",
        "sns.distplot(heart[heart['target']==1].age)\n",
        "plt.title('Age of patients with heart disease')\n",
        "plt.subplot(223)\n",
        "sns.distplot(heart[heart['target']==0].thalach )\n",
        "plt.title('Max heart rate of patients without heart disease')\n",
        "plt.subplot(224)\n",
        "sns.distplot(heart[heart['target']==1].thalach )\n",
        "plt.title('Max heart rate of patients with heart disease')\n",
        "plt.show()"
      ]
    },
    {
      "cell_type": "code",
      "execution_count": null,
      "metadata": {
        "id": "FTNfPB3-ntpa",
        "outputId": "8f4646bc-d01d-4eb6-8768-4b349b300bfd"
      },
      "outputs": [],
      "source": [
        "plt.figure(figsize=(13,6))\n",
        "plt.subplot(121)\n",
        "sns.violinplot(x=\"target\", y=\"thalach\", data=heart, inner=None)\n",
        "sns.swarmplot(x=\"target\", y=\"thalach\", data=heart, color='w', alpha=0.5)\n",
        "\n",
        "\n",
        "plt.subplot(122)\n",
        "sns.swarmplot(x=\"target\", y=\"thalach\", data=heart)\n",
        "plt.show()"
      ]
    },
    {
      "cell_type": "code",
      "execution_count": null,
      "metadata": {
        "id": "OWYwAXaPntpg"
      },
      "outputs": [],
      "source": []
    },
    {
      "cell_type": "code",
      "execution_count": null,
      "metadata": {
        "id": "0XLYFVbvntpm",
        "outputId": "205b5885-f63f-4b16-9986-109c9639f682"
      },
      "outputs": [],
      "source": [
        "heart"
      ]
    },
    {
      "cell_type": "code",
      "execution_count": null,
      "metadata": {
        "id": "ubLyTyb7ntpt",
        "outputId": "edfecc12-b588-474c-b40c-3051855b39a1"
      },
      "outputs": [],
      "source": [
        "# create pairplot and two barplots\n",
        "plt.figure(figsize=(16,6))\n",
        "plt.subplot(131)\n",
        "sns.pointplot(x=\"sex\", y=\"target\", hue='cp', data=heart)\n",
        "plt.legend(['male = 1', 'female = 0'])\n",
        "plt.subplot(132)\n",
        "sns.barplot(x=\"exang\", y=\"target\", data=heart)\n",
        "plt.legend(['yes = 1', 'no = 0'])\n",
        "plt.subplot(133)\n",
        "sns.countplot(x=\"slope\", hue='target', data=heart)\n",
        "plt.show()"
      ]
    },
    {
      "cell_type": "code",
      "execution_count": null,
      "metadata": {
        "id": "4lwNz4_HntqH"
      },
      "outputs": [],
      "source": [
        "#DATA Preprocessing"
      ]
    },
    {
      "cell_type": "code",
      "execution_count": null,
      "metadata": {
        "id": "dek2JEmEntqM"
      },
      "outputs": [],
      "source": [
        "########################################################################################"
      ]
    },
    {
      "cell_type": "code",
      "execution_count": null,
      "metadata": {
        "id": "S3a7NKhPntqV",
        "outputId": "9856cb4e-d5d1-4875-d1fa-cc2909f7627d"
      },
      "outputs": [],
      "source": [
        "heart['target'].value_counts()"
      ]
    },
    {
      "cell_type": "code",
      "execution_count": null,
      "metadata": {
        "id": "r52A0DgNntqb",
        "outputId": "08266cae-0317-4e37-9472-31f29b858c6e"
      },
      "outputs": [],
      "source": [
        "heart['target'].isnull()"
      ]
    },
    {
      "cell_type": "code",
      "execution_count": null,
      "metadata": {
        "id": "ETihvK3Intqh",
        "outputId": "cbdf209b-1e13-43eb-b8a0-f6455bdcc9e4"
      },
      "outputs": [],
      "source": [
        "heart['target'].sum()"
      ]
    },
    {
      "cell_type": "code",
      "execution_count": null,
      "metadata": {
        "id": "ZL6IkkvTntqn",
        "outputId": "0bc3f745-9241-44de-aea0-31e6b6867e52"
      },
      "outputs": [],
      "source": [
        "heart['target'].unique()"
      ]
    },
    {
      "cell_type": "code",
      "execution_count": null,
      "metadata": {
        "id": "nA6GN4Ointqu",
        "outputId": "de5ff2f7-c1f1-43b6-9775-2a276a290022"
      },
      "outputs": [],
      "source": [
        "heart.isnull().sum()"
      ]
    },
    {
      "cell_type": "code",
      "execution_count": null,
      "metadata": {
        "id": "2WFtpBkmntq4"
      },
      "outputs": [],
      "source": [
        "#Storing in X and y"
      ]
    },
    {
      "cell_type": "code",
      "execution_count": null,
      "metadata": {
        "id": "y6MfUWNCntq9"
      },
      "outputs": [],
      "source": [
        "X,y=heart,heart.target"
      ]
    },
    {
      "cell_type": "code",
      "execution_count": null,
      "metadata": {
        "id": "ere1gpJHntrC"
      },
      "outputs": [],
      "source": [
        "X.drop('target',axis=1,inplace=True)"
      ]
    },
    {
      "cell_type": "code",
      "execution_count": null,
      "metadata": {
        "id": "ritZ-3GantrH",
        "outputId": "54858af2-419a-4533-f2d1-06b46a079237"
      },
      "outputs": [],
      "source": [
        "y"
      ]
    },
    {
      "cell_type": "code",
      "execution_count": null,
      "metadata": {
        "id": "eY_ORQXWntrM"
      },
      "outputs": [],
      "source": [
        "####Or X, y = heart.iloc[:, :-1], heart.iloc[:, -1]"
      ]
    },
    {
      "cell_type": "code",
      "execution_count": null,
      "metadata": {
        "id": "wdMKBAgbntrW",
        "outputId": "5c109b7f-e0b6-449f-ca8a-73ceef5a877e"
      },
      "outputs": [],
      "source": [
        "X.shape"
      ]
    },
    {
      "cell_type": "code",
      "execution_count": null,
      "metadata": {
        "id": "XznuCDWGntrb",
        "outputId": "e7e339e7-50cb-45cd-e74d-ba89024c2208"
      },
      "outputs": [],
      "source": [
        "y.shape"
      ]
    },
    {
      "cell_type": "code",
      "execution_count": null,
      "metadata": {
        "id": "0wUo44fBntrg"
      },
      "outputs": [],
      "source": [
        "from sklearn.model_selection import train_test_split\n",
        "from sklearn.preprocessing import StandardScaler"
      ]
    },
    {
      "cell_type": "code",
      "execution_count": null,
      "metadata": {
        "id": "J9jhw6tAntru"
      },
      "outputs": [],
      "source": [
        "sc = StandardScaler()\n",
        "X = sc.fit_transform(X)"
      ]
    },
    {
      "cell_type": "code",
      "execution_count": null,
      "metadata": {
        "id": "wQhE9lqvntrz"
      },
      "outputs": [],
      "source": [
        "X_train,X_test,y_train,y_test=train_test_split(X,y,random_state=10,test_size=0.3,shuffle=True)"
      ]
    },
    {
      "cell_type": "code",
      "execution_count": null,
      "metadata": {
        "id": "4mydwqBIntr5",
        "outputId": "f175a81c-24d5-4768-c5a2-260ede3ad38b"
      },
      "outputs": [],
      "source": [
        "X_test"
      ]
    },
    {
      "cell_type": "code",
      "execution_count": null,
      "metadata": {
        "id": "PeBgIm4Sntr_",
        "outputId": "c6054d5f-16ec-42b1-b055-bc4d85417228"
      },
      "outputs": [],
      "source": [
        "y_test\n"
      ]
    },
    {
      "cell_type": "code",
      "execution_count": null,
      "metadata": {
        "colab": {
          "base_uri": "https://localhost:8080/",
          "height": 94
        },
        "id": "T2hZgSzFntsD",
        "outputId": "c6babe2f-5be2-4cb1-8021-67ba22f34cd9",
        "tags": []
      },
      "outputs": [],
      "source": [
        "print (\"train_set_x shape: \" + str(X_train.shape))\n",
        "print (\"train_set_y shape: \" + str(y_train.shape))\n",
        "print (\"test_set_x shape: \" + str(X_test.shape))\n",
        "print (\"test_set_y shape: \" + str(y_test.shape))"
      ]
    },
    {
      "cell_type": "code",
      "execution_count": null,
      "metadata": {
        "id": "g50rFYKtntsH"
      },
      "outputs": [],
      "source": [
        "# Model"
      ]
    },
    {
      "cell_type": "code",
      "execution_count": null,
      "metadata": {
        "id": "p_Me8GBOntsO"
      },
      "outputs": [],
      "source": [
        "# Decision Tree Classifier\n",
        "scores_dict = {}"
      ]
    },
    {
      "cell_type": "code",
      "execution_count": null,
      "metadata": {
        "id": "X_L4F03YntsX"
      },
      "outputs": [],
      "source": [
        "Catagory=['No....but i pray you get Heart Disease or at leaset Corona Virus Soon...','Yes you have Heart Disease....RIP in Advance']"
      ]
    },
    {
      "cell_type": "code",
      "execution_count": null,
      "metadata": {
        "colab": {
          "base_uri": "https://localhost:8080/",
          "height": 133
        },
        "id": "02c6qjWfntsf",
        "outputId": "bde97d77-5ce8-46f3-9763-1e74312d9ee8"
      },
      "outputs": [],
      "source": [
        "from sklearn.tree import DecisionTreeClassifier\n",
        "dt=DecisionTreeClassifier()\n",
        "dt.fit(X_train,y_train)"
      ]
    },
    {
      "cell_type": "code",
      "execution_count": null,
      "metadata": {
        "id": "af7jhKQtntsl"
      },
      "outputs": [],
      "source": [
        "prediction=dt.predict(X_test)\n",
        "accuracy_dt=accuracy_score(y_test,prediction)*100"
      ]
    },
    {
      "cell_type": "code",
      "execution_count": null,
      "metadata": {
        "colab": {
          "base_uri": "https://localhost:8080/",
          "height": 36
        },
        "id": "Hcf_FN3Cntss",
        "outputId": "116e2aeb-b5f0-4682-c226-9c00bcc5ff34"
      },
      "outputs": [],
      "source": [
        "scores_dict['DecisionTreeClassifier'] = accuracy_dt\n",
        "print(accuracy_dt)"
      ]
    },
    {
      "cell_type": "code",
      "execution_count": null,
      "metadata": {
        "colab": {
          "base_uri": "https://localhost:8080/",
          "height": 56
        },
        "id": "DurgZbJ4nts4",
        "outputId": "d687b754-dc53-4902-bd05-72cf7bfaa87b",
        "tags": []
      },
      "outputs": [],
      "source": [
        "print(\"Accuracy on training set: {:.3f}\".format(dt.score(X_train, y_train)))\n",
        "print(\"Accuracy on test set: {:.3f}\".format(dt.score(X_test, y_test)))"
      ]
    },
    {
      "cell_type": "code",
      "execution_count": null,
      "metadata": {
        "id": "bT62gd31nts9",
        "outputId": "5ff58a42-ca12-40d9-b2be-f2d4736e3b0a"
      },
      "outputs": [],
      "source": [
        "prediction"
      ]
    },
    {
      "cell_type": "code",
      "execution_count": null,
      "metadata": {
        "id": "fViFGqwtnttC"
      },
      "outputs": [],
      "source": []
    },
    {
      "cell_type": "code",
      "execution_count": null,
      "metadata": {
        "id": "7PLtwnBhnttG"
      },
      "outputs": [],
      "source": [
        "X_DT=np.array([[63 ,1, 3,145,233,1,0,150,0,2.3,0,0,1]])\n",
        "X_DT_prediction=dt.predict(X_DT)"
      ]
    },
    {
      "cell_type": "code",
      "execution_count": null,
      "metadata": {
        "id": "mA0RdST5nttK",
        "outputId": "d837ba61-e2cf-4ade-e1e3-ac33323ce1de"
      },
      "outputs": [],
      "source": [
        "X_DT_prediction[0]\n"
      ]
    },
    {
      "cell_type": "code",
      "execution_count": null,
      "metadata": {
        "id": "5IvIFHeJnttO",
        "outputId": "cdbbd963-1e33-4216-edd4-a2e952ecc465",
        "tags": []
      },
      "outputs": [],
      "source": [
        "print(Catagory[int(X_DT_prediction[0])])"
      ]
    },
    {
      "cell_type": "code",
      "execution_count": null,
      "metadata": {
        "id": "JgkeEFm2nttW"
      },
      "outputs": [],
      "source": []
    },
    {
      "cell_type": "code",
      "execution_count": null,
      "metadata": {
        "id": "CS10p8lOnttZ"
      },
      "outputs": [],
      "source": [
        "#Feature Importance in Decision Trees"
      ]
    },
    {
      "cell_type": "code",
      "execution_count": null,
      "metadata": {
        "colab": {
          "base_uri": "https://localhost:8080/",
          "height": 94
        },
        "id": "wLxURXMxnttd",
        "outputId": "f2b3c9e7-f210-4f20-8253-06e4a90f325d"
      },
      "outputs": [],
      "source": [
        "print(\"Feature importances:\\n{}\".format(dt.feature_importances_))"
      ]
    },
    {
      "cell_type": "code",
      "execution_count": null,
      "metadata": {
        "colab": {
          "base_uri": "https://localhost:8080/",
          "height": 465
        },
        "id": "fBtWo7uDntti",
        "outputId": "e3a2778c-ed76-4b59-e830-25b7ead29dfa"
      },
      "outputs": [],
      "source": [
        "def plot_feature_importances_diabetes(model):\n",
        "    plt.figure(figsize=(8,6))\n",
        "    n_features = 13\n",
        "    plt.barh(range(n_features), model.feature_importances_, align='center')\n",
        "    plt.yticks(np.arange(n_features), X)\n",
        "    plt.xlabel(\"Feature importance\")\n",
        "    plt.ylabel(\"Feature\")\n",
        "    plt.ylim(-1, n_features)\n",
        "plot_feature_importances_diabetes(dt)\n",
        "plt.savefig('feature_importance')"
      ]
    },
    {
      "cell_type": "code",
      "execution_count": null,
      "metadata": {
        "id": "oLoY77Ebnttp"
      },
      "outputs": [],
      "source": [
        "# KNN"
      ]
    },
    {
      "cell_type": "code",
      "execution_count": null,
      "metadata": {
        "id": "G6alRQHynttv"
      },
      "outputs": [],
      "source": [
        "from sklearn.neighbors import KNeighborsClassifier"
      ]
    },
    {
      "cell_type": "code",
      "execution_count": null,
      "metadata": {
        "colab": {
          "base_uri": "https://localhost:8080/",
          "height": 36
        },
        "id": "VMgxb0_lntt2",
        "outputId": "8cfd61de-fc3f-4868-962a-e82180def7d5",
        "tags": []
      },
      "outputs": [],
      "source": [
        "k_range=range(1,26)\n",
        "scores={}\n",
        "h_score = 0       # to find the best score\n",
        "best_k=0          # to find the best k\n",
        "scores_list=[]  \n",
        "\n",
        "for k in k_range:\n",
        "    knn=KNeighborsClassifier(n_neighbors=k)\n",
        "    knn.fit(X_train,y_train)\n",
        "    prediction_knn=knn.predict(X_test)\n",
        "    scores[k]=accuracy_score(y_test,prediction_knn)\n",
        "    if scores[k]>h_score:\n",
        "        h_score = scores[k]\n",
        "        best_k = k\n",
        "\n",
        "    scores_list.append(accuracy_score(y_test,prediction_knn))\n",
        "print('The best value of k is {} with score : {}'.format(best_k,h_score))"
      ]
    },
    {
      "cell_type": "code",
      "execution_count": null,
      "metadata": {
        "colab": {
          "base_uri": "https://localhost:8080/",
          "height": 75
        },
        "id": "q6FycOAcntt6",
        "outputId": "6ed3e9ce-28a8-4f42-c86a-93fa5a0c7199"
      },
      "outputs": [],
      "source": [
        "knn=KNeighborsClassifier(n_neighbors=best_k)\n",
        "knn.fit(X_train,y_train)"
      ]
    },
    {
      "cell_type": "code",
      "execution_count": null,
      "metadata": {
        "colab": {
          "base_uri": "https://localhost:8080/",
          "height": 56
        },
        "id": "7SZLlGCxntt_",
        "outputId": "eca81dde-b287-4a37-c305-e7ff020c07bd",
        "tags": []
      },
      "outputs": [],
      "source": [
        "prediction_knn=knn.predict(X_test)\n",
        "accuracy_knn=accuracy_score(y_test,prediction_knn)*100\n",
        "print('accuracy_score score     : ',accuracy_score(y_test,prediction_knn)*100,'%')\n",
        "print('mean_squared_error score : ',mean_squared_error(y_test,prediction_knn)*100,'%')"
      ]
    },
    {
      "cell_type": "code",
      "execution_count": null,
      "metadata": {
        "colab": {
          "base_uri": "https://localhost:8080/",
          "height": 36
        },
        "id": "Hqle-QEgntuD",
        "outputId": "5b18bb44-7f56-4ddc-924c-dc5b488a61f7"
      },
      "outputs": [],
      "source": [
        "scores_dict['KNeighborsClassifier'] = accuracy_knn\n",
        "accuracy_knn"
      ]
    },
    {
      "cell_type": "code",
      "execution_count": null,
      "metadata": {
        "colab": {
          "base_uri": "https://localhost:8080/",
          "height": 56
        },
        "id": "cpxrnHWDntuI",
        "outputId": "98f8d045-f565-4764-a5cf-d23dadafb5ae",
        "tags": []
      },
      "outputs": [],
      "source": [
        "print(\"Accuracy on training set: {:.3f}\".format(knn.score(X_train, y_train)))\n",
        "print(\"Accuracy on test set: {:.3f}\".format(knn.score(X_test, y_test)))"
      ]
    },
    {
      "cell_type": "code",
      "execution_count": null,
      "metadata": {
        "id": "IK6Hu2WpntuM",
        "outputId": "0cfa3116-84a1-433f-8c31-453582f5cb58"
      },
      "outputs": [],
      "source": [
        "plt.plot(k_range,scores_list)"
      ]
    },
    {
      "cell_type": "code",
      "execution_count": null,
      "metadata": {
        "id": "1dEzXdR_ntuR",
        "outputId": "30d60e45-8f13-470e-85fa-508ae8020234"
      },
      "outputs": [],
      "source": [
        "px.line(x=k_range,y=scores_list)"
      ]
    },
    {
      "cell_type": "code",
      "execution_count": null,
      "metadata": {
        "id": "HpBlczgJntu_"
      },
      "outputs": [],
      "source": [
        "X_knn=np.array([[63 ,1, 3,145,233,1,0,150,0,2.3,0,0,1]])\n",
        "X_knn=sc.transform(X_knn)\n",
        "X_knn_prediction=dt.predict(X_knn)"
      ]
    },
    {
      "cell_type": "code",
      "execution_count": null,
      "metadata": {
        "id": "ZWdN09hZntvD",
        "outputId": "3e18ff4d-b42c-4cf7-d29c-e54ce38af051"
      },
      "outputs": [],
      "source": [
        "X_knn"
      ]
    },
    {
      "cell_type": "code",
      "execution_count": null,
      "metadata": {
        "id": "MaZEYJDPntvH",
        "outputId": "bd0e9176-32ac-471d-874a-d2fbadc8710b"
      },
      "outputs": [],
      "source": [
        "(X_knn_prediction[0])"
      ]
    },
    {
      "cell_type": "code",
      "execution_count": null,
      "metadata": {
        "id": "de0CP1UhntvL",
        "outputId": "4fe4188a-c84a-4f79-ed47-41d9061d779c"
      },
      "outputs": [],
      "source": [
        "print(Catagory[int(X_knn_prediction[0])])"
      ]
    },
    {
      "cell_type": "code",
      "execution_count": null,
      "metadata": {
        "id": "gDxSOGVwntvc"
      },
      "outputs": [],
      "source": [
        "# LGBMClassifier"
      ]
    },
    {
      "cell_type": "code",
      "execution_count": null,
      "metadata": {
        "colab": {
          "base_uri": "https://localhost:8080/",
          "height": 75
        },
        "id": "M8njYLYuntvh",
        "outputId": "048dd13f-6615-43f8-a18f-385137549761",
        "tags": []
      },
      "outputs": [],
      "source": [
        "from lightgbm import LGBMClassifier\n",
        "\n",
        "lg=LGBMClassifier(boosting_type='gbdt',n_estimators=5000,learning_rate=0.05,objective='binary',metric='accuracy',is_unbalance=True,\n",
        "                 colsample_bytree=0.7,reg_lambda=3,reg_alpha=3,random_state=500,n_jobs=-1,num_leaves=35)\n",
        "lg.fit(X_train,y_train)\n",
        "ypred = lg.predict(X_test)\n",
        "print('===============================================')\n",
        "print('With score : ',accuracy_score(y_test,ypred)*100)\n",
        "print('===============================================')\n",
        "scores_dict['LGBMClassifier'] = accuracy_score(y_test,ypred)*100"
      ]
    },
    {
      "cell_type": "code",
      "execution_count": null,
      "metadata": {
        "colab": {
          "base_uri": "https://localhost:8080/",
          "height": 36
        },
        "id": "5DzjoNXOuNQV",
        "outputId": "602567d9-e55d-4520-93fc-0d0d7813c1cd"
      },
      "outputs": [],
      "source": [
        "from sklearn.svm import SVC\n",
        "\n",
        "model = SVC(C=2.0,kernel='rbf',gamma='auto').fit(X_train,y_train)\n",
        "Y_predict = model.predict(X_test)\n",
        "print('Accuracy score : {}%'.format(accuracy_score(y_test,Y_predict)*100))\n",
        "scores_dict['SVC'] = accuracy_score(y_test,Y_predict)*100"
      ]
    },
    {
      "cell_type": "code",
      "execution_count": null,
      "metadata": {
        "colab": {
          "base_uri": "https://localhost:8080/",
          "height": 549
        },
        "id": "LvhCn3_hntvX",
        "outputId": "60fc86bc-4b02-45be-b40a-f308d4562833"
      },
      "outputs": [],
      "source": [
        "with sns.color_palette('muted'):\n",
        "  algo_name = list(scores_dict.keys())\n",
        "  scoress = list(scores_dict.values())\n",
        "\n",
        "  sns.set(rc={'figure.figsize':(15,7)})\n",
        "  plt.xlabel(\"Algorithms\")\n",
        "  plt.ylabel(\"Accuracy score\")\n",
        "\n",
        "  sns.barplot(algo_name,scoress)"
      ]
    }
  ],
  "metadata": {
    "colab": {
      "name": "Heart Disease Prediction.ipynb",
      "provenance": []
    },
    "kernelspec": {
      "display_name": "Python 3",
      "language": "python",
      "name": "python3"
    },
    "language_info": {
      "codemirror_mode": {
        "name": "ipython",
        "version": 3
      },
      "file_extension": ".py",
      "mimetype": "text/x-python",
      "name": "python",
      "nbconvert_exporter": "python",
      "pygments_lexer": "ipython3",
      "version": "3.9.4"
    },
    "vscode": {
      "interpreter": {
        "hash": "f6246b25e200e4c5124e3e61789ac81350562f0761bbcf92ad9e48654207659c"
      }
    }
  },
  "nbformat": 4,
  "nbformat_minor": 0
}
